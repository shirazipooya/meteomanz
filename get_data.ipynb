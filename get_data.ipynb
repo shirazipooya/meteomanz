{
 "cells": [
  {
   "cell_type": "code",
   "execution_count": 1,
   "id": "initial_id",
   "metadata": {
    "ExecuteTime": {
     "end_time": "2024-04-04T13:54:31.902526Z",
     "start_time": "2024-04-04T13:54:31.074327Z"
    },
    "collapsed": true
   },
   "outputs": [],
   "source": [
    "import time\n",
    "import logging\n",
    "import pandas as pd\n",
    "import requests"
   ]
  },
  {
   "cell_type": "code",
   "execution_count": 4,
   "id": "b17cec53a91d0b01",
   "metadata": {
    "ExecuteTime": {
     "end_time": "2024-04-04T13:54:33.226756Z",
     "start_time": "2024-04-04T13:54:33.210077Z"
    },
    "collapsed": false
   },
   "outputs": [],
   "source": [
    "logging.basicConfig(\n",
    "    level=logging.ERROR,\n",
    "    filename='app.log',\n",
    "    filemode='a',\n",
    "    format='%(message)s'\n",
    ")\n",
    "\n",
    "def create_url(\n",
    "        country_code=\"2060\",\n",
    "        station_code=\"00000\",\n",
    "        day_start=\"01\",\n",
    "        day_end=\"31\",\n",
    "        month=\"01\",\n",
    "        year=\"2000\",\n",
    "        page=\"1\"\n",
    "):\n",
    "    url = f\"http://www.meteomanz.com/sy2?cou={country_code}&ty=hp&ind={station_code}&d1={day_start}&m1={month}&y1={year}&d2={day_end}&m2={month}&y2={year}&so=001&np={page}\"    \n",
    "    return url\n",
    "\n",
    "\n",
    "def create_header(\n",
    "        userAgent=\"Mozilla/5.0 (Windows NT 10.0; Win64; x64) AppleWebKit/537.36 (KHTML, like Gecko) Chrome/123.0.0.0 Safari/537.36\",\n",
    "        referer=\"http://www.meteomanz.com/\",\n",
    "        host=\"www.meteomanz.com\",\n",
    "        acceptLanguage=\"en-US,en;q=0.9\",\n",
    "        connection=\"keep-alive\",\n",
    "        accept=\"text/html,application/xhtml+xml,application/xml;q=0.9,image/avif,image/webp,image/apng,*/*;q=0.8,application/signed-exchange;v=b3;q=0.7\"\n",
    "):\n",
    "    headers = {\n",
    "        \"User-Agent\": userAgent,\n",
    "        \"Referer\": referer,\n",
    "        \"Host\": host,\n",
    "        \"Accept-Language\": acceptLanguage,\n",
    "        \"Connection\": connection,\n",
    "        \"Accept\": accept\n",
    "    }\n",
    "    return headers\n",
    "\n",
    "YEARS = [*map(str, range(2000, 2025, 1))]\n",
    "MONTH = [*map(lambda x: str(x).zfill(2), range(1, 13, 1))]\n",
    "DAY = [*map(lambda x: str(x).zfill(2), range(1, 32, 1))]\n",
    "PAGE = [*map(str, range(1, 13, 1))]"
   ]
  },
  {
   "cell_type": "code",
   "execution_count": 5,
   "id": "4f6151dea54f890c",
   "metadata": {
    "ExecuteTime": {
     "end_time": "2024-04-04T14:02:27.330304Z",
     "start_time": "2024-04-04T13:54:41.321529Z"
    },
    "collapsed": false
   },
   "outputs": [
    {
     "name": "stdout",
     "output_type": "stream",
     "text": [
      "2024-01:1(300)\n",
      "2024-01:2(300)\n",
      "2024-01:3(300)\n",
      "2024-01:4(300)\n",
      "2024-01:5(300)\n",
      "2024-01:6(300)\n",
      "2024-01:7(300)\n",
      "2024-01:8(300)\n",
      "2024-01:9(18)\n",
      "2024-01:10(0)\n",
      "2024-01:11(0)\n",
      "2024-01:12(0)\n",
      "2024-02:1(300)\n",
      "2024-02:2(300)\n",
      "2024-02:3(300)\n",
      "2024-02:4(300)\n",
      "2024-02:5(300)\n",
      "2024-02:6(300)\n",
      "2024-02:7(300)\n",
      "2024-02:8(162)\n",
      "2024-02:9(0)\n",
      "2024-02:10(0)\n",
      "2024-02:11(0)\n",
      "2024-02:12(0)\n",
      "2024-03:1(300)\n",
      "2024-03:2(300)\n",
      "2024-03:3(300)\n",
      "2024-03:4(300)\n",
      "2024-03:5(300)\n",
      "2024-03:6(300)\n",
      "2024-03:7(300)\n",
      "2024-03:8(300)\n",
      "2024-03:9(17)\n",
      "2024-03:10(0)\n",
      "2024-03:11(0)\n",
      "2024-03:12(0)\n",
      "2024-04:1(300)\n",
      "2024-04:2(300)\n",
      "2024-04:3(102)\n",
      "2024-04:4(0)\n",
      "2024-04:5(0)\n",
      "2024-04:6(0)\n",
      "2024-04:7(0)\n",
      "2024-04:8(0)\n",
      "2024-04:9(0)\n",
      "2024-04:10(0)\n",
      "2024-04:11(0)\n",
      "2024-04:12(0)\n"
     ]
    }
   ],
   "source": [
    "HEADERS = create_header()\n",
    "\n",
    "for y in YEARS:\n",
    "    data = pd.DataFrame()\n",
    "    for m in MONTH:\n",
    "        for p in PAGE:\n",
    "            URL = create_url(\n",
    "                country_code=\"2060\",\n",
    "                station_code=\"00000\",\n",
    "                day_start=\"01\",\n",
    "                day_end=\"31\",\n",
    "                month=m,\n",
    "                year=y,\n",
    "                page=p\n",
    "            )\n",
    "            # r = requests.get(url = URL, headers = HEADERS)\n",
    "            # while r.status_code != 200:\n",
    "            #     time.sleep(3)\n",
    "            #     logging.error(f\"Status Code: {r.status_code} - {y}-{m}:{p}\")\n",
    "            #     r = requests.get(url = URL, headers = HEADERS)\n",
    "            get_data = True\n",
    "            while get_data:\n",
    "                try:\n",
    "                    df = pd.read_html(URL, storage_options=HEADERS)[0]\n",
    "                    print(f\"{y}-{m}:{p}({len(df)})\")\n",
    "                    if len(df) != 0:\n",
    "                        data = pd.concat([data, df])\n",
    "                        data.reset_index(drop=True, inplace=True)\n",
    "                    get_data = False\n",
    "                except:\n",
    "                    time.sleep(3)\n",
    "                    r = requests.get(url = URL, headers = HEADERS)\n",
    "                    logging.error(f\"Status Code: {r.status_code} - {y}-{m}:{p}\")\n",
    "                    get_data = True\n",
    "                    \n",
    "                    \n",
    "                    \n",
    "                    \n",
    "                # try:\n",
    "                #     df = pd.read_html(URL, storage_options=HEADERS)[0]\n",
    "                #     if len(df) != 0:\n",
    "                #         data = pd.concat([data, df])\n",
    "                #         data.reset_index(drop=True, inplace=True)\n",
    "                # except:\n",
    "                #     time.sleep(3)\n",
    "                #     try:\n",
    "                #         df = pd.read_html(URL, storage_options=HEADERS)[0]\n",
    "                #         if len(df) != 0:\n",
    "                #             data = pd.concat([data, df])\n",
    "                #             data.reset_index(drop=True, inplace=True)\n",
    "                #     except:\n",
    "                #         logging.error(f\"Error in {y}-{m}:{p}\")\n",
    "                #         print(f\"Error in {y}-{m}:{p}\")\n",
    "                #         continue\n",
    "    data.to_csv(f\"output/{y}.csv\", index=False)\n"
   ]
  },
  {
   "cell_type": "code",
   "execution_count": null,
   "id": "ae170e985ee13b7c",
   "metadata": {
    "collapsed": false
   },
   "outputs": [],
   "source": []
  }
 ],
 "metadata": {
  "kernelspec": {
   "display_name": "Python 3",
   "language": "python",
   "name": "python3"
  },
  "language_info": {
   "codemirror_mode": {
    "name": "ipython",
    "version": 3
   },
   "file_extension": ".py",
   "mimetype": "text/x-python",
   "name": "python",
   "nbconvert_exporter": "python",
   "pygments_lexer": "ipython3",
   "version": "3.10.13"
  }
 },
 "nbformat": 4,
 "nbformat_minor": 5
}
