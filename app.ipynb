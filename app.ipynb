{
 "cells": [
  {
   "cell_type": "code",
   "execution_count": null,
   "metadata": {},
   "outputs": [],
   "source": [
    "import time\n",
    "import pandas as pd\n",
    "from utils import Meteomanz\n",
    "\n",
    "scale = \"day\"\n",
    "year_start = 2024\n",
    "year_end = 2024\n",
    "\n",
    "if scale == \"hour\":\n",
    "    for year in [*map(str, range(year_start, year_end + 1, 1))]:\n",
    "        df_year = pd.DataFrame()\n",
    "        for month in [*map(lambda x: str(x).zfill(2), range(1, 13, 1))]:\n",
    "            for day in [*map(lambda x: str(x).zfill(2), range(1, 32, 1))]:\n",
    "                meteo = Meteomanz(\n",
    "                    scale = scale,\n",
    "                    day_start = day,\n",
    "                    day_end = day,\n",
    "                    month = month,\n",
    "                    year = year,\n",
    "                )\n",
    "                number_of_pages = meteo.pages()\n",
    "                df_day = pd.DataFrame()\n",
    "                if number_of_pages > 1:\n",
    "                    for page in list(range(1, number_of_pages + 1)):\n",
    "                        meteo = Meteomanz(\n",
    "                            scale = scale,\n",
    "                            day_start = day,\n",
    "                            day_end = day,\n",
    "                            month = month,\n",
    "                            year = year,\n",
    "                            page=page\n",
    "                        )\n",
    "                        df_page = meteo.download()\n",
    "                        print(meteo.url())\n",
    "                        if len(df_page) != 0:\n",
    "                            df_day = pd.concat([df_day, df_page])\n",
    "                            df_day.reset_index(drop=True, inplace=True)\n",
    "                        time.sleep(10)                      \n",
    "                else:\n",
    "                    df_day = meteo.download()\n",
    "                    print(meteo.url())\n",
    "                if len(df_day) != 0:\n",
    "                    df_year = pd.concat([df_year, df_day])\n",
    "                    df_year.reset_index(drop=True, inplace=True)\n",
    "            df_year.to_csv(f\"output/hour/{year}-{month}.csv\", index=False)\n",
    "\n"
   ]
  }
 ],
 "metadata": {
  "kernelspec": {
   "display_name": ".venv",
   "language": "python",
   "name": "python3"
  },
  "language_info": {
   "codemirror_mode": {
    "name": "ipython",
    "version": 3
   },
   "file_extension": ".py",
   "mimetype": "text/x-python",
   "name": "python",
   "nbconvert_exporter": "python",
   "pygments_lexer": "ipython3",
   "version": "3.12.3"
  }
 },
 "nbformat": 4,
 "nbformat_minor": 2
}
